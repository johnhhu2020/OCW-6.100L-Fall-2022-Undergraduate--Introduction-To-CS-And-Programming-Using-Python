{
 "cells": [
  {
   "cell_type": "markdown",
   "metadata": {},
   "source": [
    "Finger Exercise Lecture 8\n",
    "\n"
   ]
  },
  {
   "cell_type": "code",
   "execution_count": null,
   "metadata": {},
   "outputs": [],
   "source": [
    "def same_chars(s1, s2):\n",
    "    \"\"\"\n",
    "    s1 and s2 are strings\n",
    "    Returns boolean True is a character in s1 is also in s2, and vice \n",
    "    versa. If a character only exists in one of s1 or s2, returns False.\n",
    "    \"\"\"\n",
    "    # Your code here\n",
    "\n",
    "# Examples:\n",
    "print(same_chars(\"abc\", \"cab\"))     # prints True\n",
    "print(same_chars(\"abccc\", \"caaab\")) # prints True\n",
    "print(same_chars(\"abcd\", \"cabaa\"))  # prints False\n",
    "print(same_chars(\"abcabc\", \"cabz\")) # prints False"
   ]
  },
  {
   "cell_type": "code",
   "execution_count": null,
   "metadata": {},
   "outputs": [
    {
     "name": "stdout",
     "output_type": "stream",
     "text": [
      "True\n",
      "True\n",
      "False\n",
      "True\n"
     ]
    }
   ],
   "source": [
    "def same_chars(s1, s2):\n",
    "    \"\"\"\n",
    "    s1 and s2 are strings\n",
    "    Returns boolean True is a character in s1 is also in s2, and vice \n",
    "    versa. If a character only exists in one of s1 or s2, returns False.\n",
    "    \"\"\"\n",
    "    # Your code here\n",
    "    return all([i in s2 for i in s1])  # How bralliant am I\n",
    "\n",
    "# Examples:\n",
    "print(same_chars(\"abc\", \"cab\"))     # prints True\n",
    "print(same_chars(\"abccc\", \"caaab\")) # prints True\n",
    "print(same_chars(\"abcd\", \"cabaa\"))  # prints False\n",
    "print(same_chars(\"abcabc\", \"cabz\")) # prints False"
   ]
  },
  {
   "cell_type": "code",
   "execution_count": null,
   "metadata": {},
   "outputs": [],
   "source": []
  }
 ],
 "metadata": {
  "kernelspec": {
   "display_name": ".venv",
   "language": "python",
   "name": "python3"
  },
  "language_info": {
   "codemirror_mode": {
    "name": "ipython",
    "version": 3
   },
   "file_extension": ".py",
   "mimetype": "text/x-python",
   "name": "python",
   "nbconvert_exporter": "python",
   "pygments_lexer": "ipython3",
   "version": "3.11.2"
  }
 },
 "nbformat": 4,
 "nbformat_minor": 2
}
