{
 "cells": [
  {
   "cell_type": "markdown",
   "metadata": {},
   "source": [
    "# Question 1: Implement the function that meets the specifications below:\n",
    "\n"
   ]
  },
  {
   "cell_type": "code",
   "execution_count": 1,
   "metadata": {},
   "outputs": [
    {
     "name": "stdout",
     "output_type": "stream",
     "text": [
      "3\n"
     ]
    }
   ],
   "source": [
    "def eval_quadratic(a, b, c, x):\n",
    "    \"\"\"\n",
    "    a, b, c: numerical values for the coefficients of a quadratic equation\n",
    "    x: numerical value at which to evaluate the quadratic.\n",
    "    Returns the value of the quadratic a×x² + b×x + c.\n",
    "    \"\"\"\n",
    "    return a*x**2 + b*x + c\n",
    "\n",
    "# Examples:    \n",
    "print(eval_quadratic(1, 1, 1, 1)) # prints 3\n"
   ]
  },
  {
   "cell_type": "markdown",
   "metadata": {},
   "source": [
    "# Question 2: Implement the function that meets the specifications below:\n",
    "\n"
   ]
  },
  {
   "cell_type": "code",
   "execution_count": 2,
   "metadata": {},
   "outputs": [
    {
     "name": "stdout",
     "output_type": "stream",
     "text": [
      "6\n"
     ]
    }
   ],
   "source": [
    "def two_quadratics(a1, b1, c1, x1, a2, b2, c2, x2):\n",
    "    \"\"\"\n",
    "    a1, b1, c1: one set of coefficients of a quadratic equation\n",
    "    a2, b2, c2: another set of coefficients of a quadratic equation\n",
    "    x1, x2: values at which to evaluate the quadratics\n",
    "    Evaluates one quadratic with coefficients a1, b1, c1, at x1.\n",
    "    Evaluates another quadratic with coefficients a2, b2, c2, at x2.\n",
    "    Prints the sum of the two evaluations. Does not return anything.\n",
    "    \"\"\"\n",
    "    return (a1*x1**2 + b1*x1 + c1) + (a2*x2**2 + b2*x2 + c2)\n",
    "\n",
    "# Examples:    \n",
    "two_quadratics(1, 1, 1, 1, 1, 1, 1, 1) # prints 6\n",
    "print(two_quadratics(1, 1, 1, 1, 1, 1, 1, 1)) # prints 6 then None\n"
   ]
  },
  {
   "cell_type": "code",
   "execution_count": null,
   "metadata": {},
   "outputs": [],
   "source": []
  }
 ],
 "metadata": {
  "kernelspec": {
   "display_name": ".venv",
   "language": "python",
   "name": "python3"
  },
  "language_info": {
   "codemirror_mode": {
    "name": "ipython",
    "version": 3
   },
   "file_extension": ".py",
   "mimetype": "text/x-python",
   "name": "python",
   "nbconvert_exporter": "python",
   "pygments_lexer": "ipython3",
   "version": "3.11.2"
  }
 },
 "nbformat": 4,
 "nbformat_minor": 2
}
