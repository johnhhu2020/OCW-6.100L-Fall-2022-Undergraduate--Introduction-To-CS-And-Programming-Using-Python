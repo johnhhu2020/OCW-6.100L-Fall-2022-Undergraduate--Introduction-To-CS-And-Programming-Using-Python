{
 "cells": [
  {
   "cell_type": "markdown",
   "metadata": {},
   "source": [
    "## Finger Exercise Lecture 4\n",
    "Assume you are given a positive integer variable named N. Write a piece of Python code that finds the cube root of N. The code prints the cube root if N is a perfect cube or it prints error if N is not a perfect cube. Hint: use a loop that increments a counter—you decide when the counter should stop.\n",
    "\n"
   ]
  },
  {
   "cell_type": "code",
   "execution_count": 10,
   "metadata": {},
   "outputs": [
    {
     "name": "stdout",
     "output_type": "stream",
     "text": [
      "h, l, and ans: 64, 0, 32\n",
      "h, l, and ans: 32, 0, 16\n",
      "h, l, and ans: 16, 0, 8\n",
      "h, l, and ans: 8, 0, 4\n",
      "Its a perfect cube: the qube root of N: 64 is: 4\n"
     ]
    }
   ],
   "source": [
    "N = int(input(\"Give me an interger and I'll guessing cube root: \"))\n",
    "\n",
    "h, l = max(1, N), 0\n",
    "num_guess = 0\n",
    "ans = int((h+l)/2)\n",
    "print(f\"h, l, and ans: {h}, {l}, {ans}\")\n",
    "\n",
    "while ans**3 > N:\n",
    "    if ans**3 > N:\n",
    "        h = ans\n",
    "    else:\n",
    "        l = ans\n",
    "    ans = int((h+l)/2)\n",
    "    print(f\"h, l, and ans: {h}, {l}, {ans}\")\n",
    "\n",
    "if ans**3 == N:\n",
    "    print(f\"Its a perfect cube: the qube root of N: {N} is: {ans}\")\n",
    "else:\n",
    "    print(\"Error, not perfect cube\")\n",
    "\n"
   ]
  },
  {
   "cell_type": "code",
   "execution_count": 9,
   "metadata": {},
   "outputs": [
    {
     "data": {
      "text/plain": [
       "64"
      ]
     },
     "execution_count": 9,
     "metadata": {},
     "output_type": "execute_result"
    }
   ],
   "source": [
    "4**3"
   ]
  },
  {
   "cell_type": "code",
   "execution_count": null,
   "metadata": {},
   "outputs": [],
   "source": []
  }
 ],
 "metadata": {
  "kernelspec": {
   "display_name": ".venv",
   "language": "python",
   "name": "python3"
  },
  "language_info": {
   "codemirror_mode": {
    "name": "ipython",
    "version": 3
   },
   "file_extension": ".py",
   "mimetype": "text/x-python",
   "name": "python",
   "nbconvert_exporter": "python",
   "pygments_lexer": "ipython3",
   "version": "3.11.2"
  }
 },
 "nbformat": 4,
 "nbformat_minor": 2
}
