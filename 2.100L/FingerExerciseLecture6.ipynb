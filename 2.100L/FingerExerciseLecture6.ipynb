{
 "cells": [
  {
   "cell_type": "markdown",
   "metadata": {},
   "source": [
    "# Finger Exercise Lecture 6\n",
    "Assume you are given an integer 0 \\<= N \\<= 1000. Write a piece of Python code that uses bisection search to guess N. The code prints two lines: count: with how many guesses it took to find N, and answer: with the value of N. Hints: If the halfway value is exactly in between two integers, choose the smaller one.\n",
    "\n"
   ]
  },
  {
   "cell_type": "code",
   "execution_count": 2,
   "metadata": {},
   "outputs": [
    {
     "name": "stdout",
     "output_type": "stream",
     "text": [
      "N: 964, M: 1000, e: 0.001 and guess: 964.0007019042969\n",
      "964.0007019042969\n"
     ]
    }
   ],
   "source": [
    "N = 964\n",
    "\n",
    "def guess_int(N, M, e):\n",
    "    min = 0\n",
    "    max = M\n",
    "    guess = (min + max)/2\n",
    "    while abs(guess - N) >= e:\n",
    "        if guess - N > 0:\n",
    "            max = guess\n",
    "        else:\n",
    "            min = guess\n",
    "        guess = (min + max)/2\n",
    "    print(f\"N: {N}, M: {M}, e: {e} and guess: {guess}\")\n",
    "    return guess\n",
    "\n",
    "guessN = guess_int(N, 1000, 0.001)\n",
    "guessN\n",
    "print(guessN)"
   ]
  },
  {
   "cell_type": "code",
   "execution_count": null,
   "metadata": {},
   "outputs": [],
   "source": []
  },
  {
   "cell_type": "code",
   "execution_count": null,
   "metadata": {},
   "outputs": [],
   "source": []
  },
  {
   "cell_type": "code",
   "execution_count": null,
   "metadata": {},
   "outputs": [],
   "source": []
  }
 ],
 "metadata": {
  "kernelspec": {
   "display_name": ".venv",
   "language": "python",
   "name": "python3"
  },
  "language_info": {
   "codemirror_mode": {
    "name": "ipython",
    "version": 3
   },
   "file_extension": ".py",
   "mimetype": "text/x-python",
   "name": "python",
   "nbconvert_exporter": "python",
   "pygments_lexer": "ipython3",
   "version": "3.11.2"
  }
 },
 "nbformat": 4,
 "nbformat_minor": 2
}
